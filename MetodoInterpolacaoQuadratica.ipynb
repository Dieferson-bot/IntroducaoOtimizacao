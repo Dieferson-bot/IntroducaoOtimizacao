{
  "nbformat": 4,
  "nbformat_minor": 0,
  "metadata": {
    "colab": {
      "name": "MetodoInterpolacaoQuadratica.ipynb",
      "provenance": [],
      "authorship_tag": "ABX9TyMVz3YRoZ++TFkdqR5+5hqb",
      "include_colab_link": true
    },
    "kernelspec": {
      "name": "python3",
      "display_name": "Python 3"
    },
    "language_info": {
      "name": "python"
    }
  },
  "cells": [
    {
      "cell_type": "markdown",
      "metadata": {
        "id": "view-in-github",
        "colab_type": "text"
      },
      "source": [
        "<a href=\"https://colab.research.google.com/github/Dieferson-bot/IntroducaoOtimizacao/blob/main/MetodoInterpolacaoQuadratica.ipynb\" target=\"_parent\"><img src=\"https://colab.research.google.com/assets/colab-badge.svg\" alt=\"Open In Colab\"/></a>"
      ]
    },
    {
      "cell_type": "code",
      "metadata": {
        "colab": {
          "base_uri": "https://localhost:8080/"
        },
        "id": "aMA-m_jsavb6",
        "outputId": "b26e6831-87ae-487e-a133-667e64a89a29"
      },
      "source": [
        "\"\"\" miq - Metodo de Interpolação Quadratica\"\"\"\n",
        "def miq(f,a,b,tol=1e-6):\n",
        "\n",
        "  c = b\n",
        "  b = (c-a)/2\n",
        "\n",
        "  fa = f(a)\n",
        "  fb = f(b)\n",
        "  fc = f(c)\n",
        "\n",
        "  while abs(c-a) < tol:\n",
        "    x = 0.5*(fa*(b**2-c**2)+fb*(c**2-a**2)+fc*(a**2-b**2))/(fa*(b-c) +fb*(c-a) +fc*(a-b))\n",
        "    fx = f(x)\n",
        "    print(x)\n",
        "    if x > b:\n",
        "      if fx > fb:\n",
        "        c = x\n",
        "        fc = fx\n",
        "      else: \n",
        "        a = b\n",
        "        fa = fb\n",
        "        b = x\n",
        "        fb = fx\n",
        "    else:\n",
        "      if fx > fb:\n",
        "        a = x\n",
        "        fa = fx\n",
        "      else:\n",
        "        c = b\n",
        "        fc = fb\n",
        "        b = x\n",
        "        fb = fx\n",
        "\n",
        "  return (a+c)/2\n",
        "  \n",
        "f = lambda x: (x-5)**2\n",
        "q = miq(f,1,10)\n",
        "print(q)"
      ],
      "execution_count": 30,
      "outputs": [
        {
          "output_type": "stream",
          "text": [
            "5.5\n"
          ],
          "name": "stdout"
        }
      ]
    }
  ]
}