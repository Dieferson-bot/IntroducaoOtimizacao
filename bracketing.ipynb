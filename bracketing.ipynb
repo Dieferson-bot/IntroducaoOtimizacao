{
  "nbformat": 4,
  "nbformat_minor": 0,
  "metadata": {
    "colab": {
      "name": "bracketing.ipynb",
      "provenance": [],
      "authorship_tag": "ABX9TyNja496mKrByhVRQ+FI7KZx",
      "include_colab_link": true
    },
    "kernelspec": {
      "name": "python3",
      "display_name": "Python 3"
    },
    "language_info": {
      "name": "python"
    }
  },
  "cells": [
    {
      "cell_type": "markdown",
      "metadata": {
        "id": "view-in-github",
        "colab_type": "text"
      },
      "source": [
        "<a href=\"https://colab.research.google.com/github/Dieferson-bot/IntroducaoOtimizacao/blob/main/bracketing.ipynb\" target=\"_parent\"><img src=\"https://colab.research.google.com/assets/colab-badge.svg\" alt=\"Open In Colab\"/></a>"
      ]
    },
    {
      "cell_type": "code",
      "metadata": {
        "colab": {
          "base_uri": "https://localhost:8080/"
        },
        "id": "pBOSChlf0qMv",
        "outputId": "18ab43f2-9757-4c41-fc9e-221cf5e0ac7e"
      },
      "source": [
        "def bracket(a,f,s=0.01,m=2):\n",
        "\n",
        "    bracket = [a]\n",
        "\n",
        "    b = a + s\n",
        "    bracket = [a,b]\n",
        "\n",
        "    fa = f(a)\n",
        "    fb = f(b)\n",
        "\n",
        "\n",
        "    if fa >= fb :\n",
        "\n",
        "        c = b + s\n",
        "        fc = f(c)\n",
        "\n",
        "        while fc < fb:\n",
        "            b = c\n",
        "            fb = fc\n",
        "            s = s*m\n",
        "            c = c + s\n",
        "            fc = f(c)\n",
        "\n",
        "        bracket = [a,c]\n",
        "\n",
        "    elif fa < fb :\n",
        "        c = a - s\n",
        "        fc = f(c)\n",
        "        while fc < fa:\n",
        "            a = c\n",
        "            fa = fc\n",
        "            s = s*m\n",
        "            c = c -  s\n",
        "            fc = f(c)\n",
        "\n",
        "        bracket = [c,b] \n",
        "\n",
        "    return bracket\n",
        "\n",
        "\n",
        "f = lambda x: (x-2)**2\n",
        "\n",
        "b = bracket(5,f)\n",
        "\n",
        "print(b)"
      ],
      "execution_count": 5,
      "outputs": [
        {
          "output_type": "stream",
          "text": [
            "[-0.10999999999999988, 5.01]\n"
          ],
          "name": "stdout"
        }
      ]
    }
  ]
}