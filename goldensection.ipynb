{
  "nbformat": 4,
  "nbformat_minor": 0,
  "metadata": {
    "colab": {
      "name": "goldensection.ipynb",
      "provenance": [],
      "authorship_tag": "ABX9TyMNHeqpjx6yF/iEWhqORPGe",
      "include_colab_link": true
    },
    "kernelspec": {
      "name": "python3",
      "display_name": "Python 3"
    },
    "language_info": {
      "name": "python"
    }
  },
  "cells": [
    {
      "cell_type": "markdown",
      "metadata": {
        "id": "view-in-github",
        "colab_type": "text"
      },
      "source": [
        "<a href=\"https://colab.research.google.com/github/Dieferson-bot/IntroducaoOtimizacao/blob/main/goldensection.ipynb\" target=\"_parent\"><img src=\"https://colab.research.google.com/assets/colab-badge.svg\" alt=\"Open In Colab\"/></a>"
      ]
    },
    {
      "cell_type": "code",
      "metadata": {
        "colab": {
          "base_uri": "https://localhost:8080/"
        },
        "id": "ESNpdyVAV7-V",
        "outputId": "fff70b04-a7c2-4d04-d492-42c03896d1ef"
      },
      "source": [
        "import math\n",
        "\n",
        "def gs(f,a,b,tol=1e-6):\n",
        "\n",
        "\n",
        "  gr = (1 + math.sqrt(5))/2\n",
        "\n",
        "  c = b - (b-a)/gr\n",
        "  d = a + (b-a)/gr\n",
        "\n",
        "  while abs(b-a) > tol:\n",
        "    if f(c) > f(d):\n",
        "      a = c\n",
        "    else:\n",
        "      b = d\n",
        "      \n",
        "    c = b - (b-a)/gr\n",
        "    d = a + (b-a)/gr\n",
        "\n",
        "  return (b+a)/2\n",
        "  \n",
        "f = lambda x: (x-1)**2\n",
        "g = gs(f,1,2)\n",
        "print(g)"
      ],
      "execution_count": 28,
      "outputs": [
        {
          "output_type": "stream",
          "text": [
            "1.0000004348389486\n"
          ],
          "name": "stdout"
        }
      ]
    }
  ]
}